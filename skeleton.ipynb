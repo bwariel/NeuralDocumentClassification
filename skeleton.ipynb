{
  "nbformat": 4,
  "nbformat_minor": 0,
  "metadata": {
    "colab": {
      "name": "skeleton.ipynb",
      "provenance": [],
      "private_outputs": true,
      "collapsed_sections": [
        "n52k6VoU1brz",
        "nkd4MHFQv0jS",
        "IRPpWCXA05ka",
        "ic-CaNISucO-",
        "jH2SxwR_1Rpu",
        "XgN4fpA0uO8n",
        "_1Eq6TC2wicn"
      ],
      "include_colab_link": true
    },
    "kernelspec": {
      "name": "python3",
      "display_name": "Python 3"
    },
    "accelerator": "GPU"
  },
  "cells": [
    {
      "cell_type": "markdown",
      "metadata": {
        "id": "view-in-github",
        "colab_type": "text"
      },
      "source": [
        "<a href=\"https://colab.research.google.com/github/clemsage/NeuralDocumentClassification/blob/master/skeleton.ipynb\" target=\"_parent\"><img src=\"https://colab.research.google.com/assets/colab-badge.svg\" alt=\"Open In Colab\"/></a>"
      ]
    },
    {
      "cell_type": "markdown",
      "metadata": {
        "id": "j5UeZiGlvNoH",
        "colab_type": "text"
      },
      "source": [
        "# Settting up the computing environment\n"
      ]
    },
    {
      "cell_type": "markdown",
      "metadata": {
        "id": "n52k6VoU1brz",
        "colab_type": "text"
      },
      "source": [
        "## Install and import TensorFlow 2.0 with GPU"
      ]
    },
    {
      "cell_type": "markdown",
      "metadata": {
        "id": "zZVpUWUluZbV",
        "colab_type": "text"
      },
      "source": [
        "Select \"GPU\" in the Accelerator drop-down on Notebook Settings through the Edit menu."
      ]
    },
    {
      "cell_type": "code",
      "metadata": {
        "id": "8XYfp8LNcRD3",
        "colab_type": "code",
        "colab": {}
      },
      "source": [
        "!pip install tensorflow-gpu==2.0\n",
        "import tensorflow as tf\n",
        "print (tf.__version__)"
      ],
      "execution_count": 0,
      "outputs": []
    },
    {
      "cell_type": "markdown",
      "metadata": {
        "id": "nkd4MHFQv0jS",
        "colab_type": "text"
      },
      "source": [
        "## Confirm TensorFlow can see the GPU"
      ]
    },
    {
      "cell_type": "code",
      "metadata": {
        "id": "nbotnVwUpWBa",
        "colab_type": "code",
        "colab": {}
      },
      "source": [
        "device_name = tf.test.gpu_device_name()\n",
        "if device_name != '/device:GPU:0':\n",
        "  raise SystemError('GPU device not found')\n",
        "print('Found GPU at: {}'.format(device_name))"
      ],
      "execution_count": 0,
      "outputs": []
    },
    {
      "cell_type": "markdown",
      "metadata": {
        "id": "IRPpWCXA05ka",
        "colab_type": "text"
      },
      "source": [
        "## Additional information about hardware"
      ]
    },
    {
      "cell_type": "code",
      "metadata": {
        "id": "XKpXrN-FzeKs",
        "colab_type": "code",
        "colab": {}
      },
      "source": [
        "from tensorflow.python.client import device_lib\n",
        "device_lib.list_local_devices()"
      ],
      "execution_count": 0,
      "outputs": []
    },
    {
      "cell_type": "markdown",
      "metadata": {
        "id": "k8XAtu4u1mXZ",
        "colab_type": "text"
      },
      "source": [
        "For CPU information and RAM, run:"
      ]
    },
    {
      "cell_type": "code",
      "metadata": {
        "id": "4Mr3-8s-1jPB",
        "colab_type": "code",
        "colab": {}
      },
      "source": [
        "!cat /proc/cpuinfo\n",
        "!cat /proc/meminfo"
      ],
      "execution_count": 0,
      "outputs": []
    },
    {
      "cell_type": "markdown",
      "metadata": {
        "id": "ic-CaNISucO-",
        "colab_type": "text"
      },
      "source": [
        "## Other useful package imports"
      ]
    },
    {
      "cell_type": "code",
      "metadata": {
        "id": "gevJulhruagf",
        "colab_type": "code",
        "colab": {}
      },
      "source": [
        "from tensorflow import keras\n",
        "import numpy as np\n",
        "import matplotlib.pyplot as plt\n",
        "from collections import Counter"
      ],
      "execution_count": 0,
      "outputs": []
    },
    {
      "cell_type": "markdown",
      "metadata": {
        "id": "0kDf1Kmntpwo",
        "colab_type": "text"
      },
      "source": [
        "# Working on the dataset"
      ]
    },
    {
      "cell_type": "markdown",
      "metadata": {
        "id": "jH2SxwR_1Rpu",
        "colab_type": "text"
      },
      "source": [
        "## Information about the dataset"
      ]
    },
    {
      "cell_type": "code",
      "metadata": {
        "id": "lGLInZca1Pbg",
        "colab_type": "code",
        "colab": {}
      },
      "source": [
        "class_names = ['email', 'form', 'handwritten', 'invoice', 'advertisement']"
      ],
      "execution_count": 0,
      "outputs": []
    },
    {
      "cell_type": "markdown",
      "metadata": {
        "id": "XgN4fpA0uO8n",
        "colab_type": "text"
      },
      "source": [
        "## Import the dataset"
      ]
    },
    {
      "cell_type": "code",
      "metadata": {
        "id": "nFb00_d7uXl_",
        "colab_type": "code",
        "colab": {}
      },
      "source": [
        "num_examples = 100\n",
        "height_image, width_image, depth_image = 800, 600, 1\n",
        "num_classes = len(class_names)\n",
        "\n",
        "images = np.random.randint(low=0, high=256, size=(num_examples, height_image, \n",
        "                                                  width_image, depth_image))\n",
        "#images_rgb = np.concatenate([images for _ in range(3)], axis=-1)\n",
        "labels = np.random.randint(low=0, high=num_classes, size=num_examples)"
      ],
      "execution_count": 0,
      "outputs": []
    },
    {
      "cell_type": "markdown",
      "metadata": {
        "id": "_1Eq6TC2wicn",
        "colab_type": "text"
      },
      "source": [
        "## Explore the data"
      ]
    },
    {
      "cell_type": "markdown",
      "metadata": {
        "id": "kEiZzLtsySCx",
        "colab_type": "text"
      },
      "source": [
        "Get the number of images in the dataset:"
      ]
    },
    {
      "cell_type": "code",
      "metadata": {
        "id": "3MvjZtzUyay_",
        "colab_type": "code",
        "colab": {}
      },
      "source": [
        "print(len(images))"
      ],
      "execution_count": 0,
      "outputs": []
    },
    {
      "cell_type": "markdown",
      "metadata": {
        "id": "Fcyi-6thyjpw",
        "colab_type": "text"
      },
      "source": [
        "Get the width, height and depth of each image:"
      ]
    },
    {
      "cell_type": "code",
      "metadata": {
        "id": "2Oz8SbEdy9a6",
        "colab_type": "code",
        "colab": {}
      },
      "source": [
        "print(images[0].shape)"
      ],
      "execution_count": 0,
      "outputs": []
    },
    {
      "cell_type": "markdown",
      "metadata": {
        "id": "XVm4YLGH1Y9_",
        "colab_type": "text"
      },
      "source": [
        "Plot 5 random images of each class in gray scale colors:"
      ]
    },
    {
      "cell_type": "code",
      "metadata": {
        "id": "ET7vBNIU15pQ",
        "colab_type": "code",
        "colab": {}
      },
      "source": [
        "plt.figure(figsize=(20, 10))\n",
        "n_images_per_class = 5\n",
        "\n",
        "for class_idx in range(len(class_names)):\n",
        "  labels_idx = np.where(labels == class_idx)[0]\n",
        "  np.random.shuffle(labels_idx)\n",
        "  labels_idx = labels_idx[:n_images_per_class]\n",
        "  \n",
        "  for i in range(n_images_per_class):\n",
        "    plt.subplot(len(class_names), n_images_per_class, \n",
        "                class_idx*n_images_per_class + i + 1)\n",
        "    plt.xticks([])\n",
        "    plt.yticks([])\n",
        "    plt.grid(False)\n",
        "    plt.imshow(np.squeeze(images[labels_idx[i]]), cmap='gray')\n",
        "    #plt.imshow(images_rgb[labels_idx[i]])\n",
        "    plt.xlabel(class_names[labels[labels_idx[i]]])\n",
        "\n",
        "plt.show()"
      ],
      "execution_count": 0,
      "outputs": []
    },
    {
      "cell_type": "markdown",
      "metadata": {
        "id": "gTiy3OjTzPm7",
        "colab_type": "text"
      },
      "source": [
        "Get the class distribution in the dataset:"
      ]
    },
    {
      "cell_type": "code",
      "metadata": {
        "id": "MjyrGh3szWs5",
        "colab_type": "code",
        "colab": {}
      },
      "source": [
        "print({class_names[key]: val for key, val in Counter(labels).items()})"
      ],
      "execution_count": 0,
      "outputs": []
    },
    {
      "cell_type": "markdown",
      "metadata": {
        "id": "OdGw-l6TEUiP",
        "colab_type": "text"
      },
      "source": [
        "## Preprocess the data"
      ]
    },
    {
      "cell_type": "markdown",
      "metadata": {
        "id": "BLEgjIKeE0Wj",
        "colab_type": "text"
      },
      "source": [
        "Reshape images to 299 x 299 pixels"
      ]
    },
    {
      "cell_type": "code",
      "metadata": {
        "id": "bAlJ5Z1KElLE",
        "colab_type": "code",
        "colab": {}
      },
      "source": [
        "images = tf.image.resize(images, (299, 299))"
      ],
      "execution_count": 0,
      "outputs": []
    },
    {
      "cell_type": "markdown",
      "metadata": {
        "id": "3uo6CiUjVecY",
        "colab_type": "text"
      },
      "source": [
        "Scale the pixel values to the range [0, 1]"
      ]
    },
    {
      "cell_type": "code",
      "metadata": {
        "id": "NeUqBu3yVlE3",
        "colab_type": "code",
        "colab": {}
      },
      "source": [
        "images = images / 255.0"
      ],
      "execution_count": 0,
      "outputs": []
    },
    {
      "cell_type": "markdown",
      "metadata": {
        "id": "0nVoN_EWWxSh",
        "colab_type": "text"
      },
      "source": [
        "Verify image shape and pixel values"
      ]
    },
    {
      "cell_type": "code",
      "metadata": {
        "id": "LgU0DSodWhBq",
        "colab_type": "code",
        "colab": {}
      },
      "source": [
        "print(images.shape)\n",
        "print(np.min(images))\n",
        "print(np.max(images))"
      ],
      "execution_count": 0,
      "outputs": []
    }
  ]
}