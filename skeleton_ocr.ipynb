{
 "nbformat": 4,
 "nbformat_minor": 2,
 "metadata": {
  "language_info": {
   "name": "python",
   "codemirror_mode": {
    "name": "ipython",
    "version": 3
   }
  },
  "orig_nbformat": 2,
  "file_extension": ".py",
  "mimetype": "text/x-python",
  "name": "python",
  "npconvert_exporter": "python",
  "pygments_lexer": "ipython3",
  "version": 3
 },
 "cells": [
  {
   "cell_type": "code",
   "execution_count": 1,
   "metadata": {},
   "outputs": [
    {
     "name": "stdout",
     "output_type": "stream",
     "text": "2.0.0\n"
    }
   ],
   "source": [
    "import tensorflow as tf\n",
    "print (tf.__version__)"
   ]
  },
  {
   "cell_type": "code",
   "execution_count": 24,
   "metadata": {},
   "outputs": [],
   "source": [
    "import os\n",
    "\n",
    "from typing import List, Tuple, Union, NewType\n",
    "\n",
    "import matplotlib\n",
    "import nltk\n",
    "import numpy\n",
    "import sklearn\n",
    "import sklearn.model_selection as model_selection\n",
    "import tqdm\n",
    "\n",
    "import ocr_input\n"
   ]
  },
  {
   "cell_type": "code",
   "execution_count": 25,
   "metadata": {},
   "outputs": [],
   "source": [
    "InputText = NewType('InputText', Union[str, List[str]])\n",
    "Label = NewType('Label', int)\n",
    "DocumentRecord = NewType('DocumentRecord', Tuple[InputText, Label])\n",
    "Dataset = NewType('Dataset', List[DocumentRecord])\n",
    "\n",
    "class_names = ['email', 'form', 'handwritten', 'invoice', 'advertisement']\n",
    "num_classes = len(class_names)\n",
    "\n",
    "random_seed = 42"
   ]
  },
  {
   "cell_type": "markdown",
   "execution_count": 4,
   "metadata": {},
   "outputs": [],
   "source": [
    "# Load the dataset"
   ]
  },
  {
   "cell_type": "code",
   "execution_count": 27,
   "metadata": {},
   "outputs": [],
   "source": [
    "def get_dataset() -> Dataset:\n",
    "    dataset_path = r\"F:\\tobacco_dataset2\\\\ocr\"\n",
    "\n",
    "    all_files = os.listdir(dataset_path)\n",
    "    doc_ocr_d = {file: content for file, content in tqdm.tqdm(zip(map(lambda f: os.path.splitext(f)[0], all_files), \n",
    "                                                                  map(ocr_input.parse_xml, map(lambda p: os.path.join(dataset_path, p), all_files))))}\n",
    "\n",
    "    with open(r\"F:\\tobacco_dataset2\\labels.txt\", \"r\") as fp:\n",
    "        label_d = {file: label for file, label in map(lambda line: line.split(','), fp.readlines())}\n",
    "\n",
    "    return [(doc_ocr_d[file], label) for file, label in label_d.items()]\n",
    "\n",
    "def split_dataset(dataset: Dataset, test_size: float = 0.2, random_seed: int = random_seed) -> Tuple[List[InputText], List[InputText], List[Label], List[Label]]:\n",
    "    return model_selection.train_test_split(*zip(*dataset), test_size=test_size, random_state=random_seed)\n",
    "    \n",
    "\n",
    "# dataset = get_dataset()"
   ]
  },
  {
   "cell_type": "code",
   "execution_count": 28,
   "metadata": {},
   "outputs": [
    {
     "name": "stdout",
     "output_type": "stream",
     "text": "16275\n"
    }
   ],
   "source": [
    "print(len(dataset))\n",
    "\n"
   ]
  },
  {
   "cell_type": "code",
   "execution_count": null,
   "metadata": {},
   "outputs": [],
   "source": []
  }
 ]
}